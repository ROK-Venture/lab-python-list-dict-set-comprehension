{
 "cells": [
  {
   "cell_type": "markdown",
   "id": "25d7736c-ba17-4aff-b6bb-66eba20fbf4e",
   "metadata": {},
   "source": [
    "# Lab | List, Dict and Set Comprehension"
   ]
  },
  {
   "cell_type": "markdown",
   "id": "7dd3cbde-675a-4b81-92c3-f728846dbe06",
   "metadata": {},
   "source": [
    "## Exercise: Managing Customer Orders Optimized with Comprehension"
   ]
  },
  {
   "cell_type": "markdown",
   "id": "5d500160-2fb7-4777-b5e4-09d45ebaf328",
   "metadata": {},
   "source": [
    "In the previous exercise, you developed a program to manage customer orders and inventory. Now, let's take it a step further and incorporate comprehension into your code.\n",
    "\n",
    "Follow the steps below to complete the exercise:\n",
    "\n",
    "1. Review your code from the previous exercise and identify areas where you can apply comprehension to simplify and streamline your code. \n",
    "\n",
    "    - *Hint: Apply it to initialize inventory, updating the inventory and printing the updated inventory.*\n",
    "    \n",
    "    - For example, in initializing the inventory, we could have:\n",
    "    \n",
    "        ```python\n",
    "        def initialize_inventory(products):\n",
    "            inventory = {product: int(input(f\"Enter the quantity of {product}s available: \")) for product in products}\n",
    "            return inventory\n",
    "\n",
    "        ```\n",
    "<br>\n",
    "    \n",
    "    \n",
    "2. Modify the function get_customer_orders so it prompts the user to enter the number of customer orders and gathers the product names using a loop and user input. Use comprehension.\n",
    "\n",
    "3. Add a new function to calculate the total price of the customer order. For each product in customer_orders, prompt the user to enter the price of that product. Use comprehension to calculate the total price. Note: assume that the user can only have 1 unit of each product.\n",
    "\n",
    "4. Modify the update_inventory function to remove the product from the inventory if its quantity becomes zero after fulfilling the customer orders. Use comprehension to filter out the products with a quantity of zero from the inventory.\n",
    "\n",
    "5. Print the total price of the customer order.\n",
    "\n",
    "Your code should produce output similar to the following:\n",
    "\n",
    "```python\n",
    "Enter the quantity of t-shirts available:  5\n",
    "Enter the quantity of mugs available:  4\n",
    "Enter the quantity of hats available:  3\n",
    "Enter the quantity of books available:  2\n",
    "Enter the quantity of keychains available:  1\n",
    "Enter the number of customer orders:  2\n",
    "Enter the name of a product that a customer wants to order:  hat\n",
    "Enter the name of a product that a customer wants to order:  keychain\n",
    "\n",
    "Order Statistics:\n",
    "Total Products Ordered: 2\n",
    "Percentage of Unique Products Ordered: 40.0\n",
    "\n",
    "Updated Inventory:\n",
    "t-shirt: 5\n",
    "mug: 4\n",
    "hat: 2\n",
    "book: 2\n",
    "Enter the price of keychain:  5\n",
    "Enter the price of hat:  10\n",
    "Total Price: 15.0\n",
    "\n",
    "```\n"
   ]
  },
  {
   "cell_type": "code",
   "execution_count": 7,
   "id": "f907ad49",
   "metadata": {},
   "outputs": [
    {
     "name": "stdout",
     "output_type": "stream",
     "text": [
      "['t-shirt', 'mug', 'hat', 'book', 'keychain']\n",
      "Your current product on stock are {'t-shirt': 1, 'mug': 2, 'hat': 3, 'book': 4, 'keychain': 5}\n"
     ]
    }
   ],
   "source": [
    "products = [\"t-shirt\", \"mug\", \"hat\", \"book\", \"keychain\"]\n",
    "print(products)\n",
    "\n",
    "def initialize_inventory(products):\n",
    "    inventory = {product: int(input(f\"Enter the quantity of {product}s available: \")) for product in products}    \n",
    "    return inventory\n",
    "\n",
    "inventory = initialize_inventory(products)\n",
    "print(f\"Your current product on stock are {inventory}\")"
   ]
  },
  {
   "cell_type": "code",
   "execution_count": 8,
   "id": "8420c5a2",
   "metadata": {},
   "outputs": [
    {
     "name": "stdout",
     "output_type": "stream",
     "text": [
      "Customer Orders: ['t-shirt', 'mug', 'hat', 'book', 'book']\n",
      "Unique Products: {'book', 'hat', 'mug', 't-shirt'}\n"
     ]
    }
   ],
   "source": [
    "def get_customer_orders():\n",
    "    input_orders = int(input(\"How many products would the customer like to order?\"))\n",
    "  \n",
    "    customer_orders = [product for i in range(input_orders) if (product := input(f\" Enter the name of a product from the list to order {products}: \")) in products or print(f\" {product} is not in the list of available products. Please try again.\")]\n",
    "    \n",
    "    unique_products = set(customer_orders)\n",
    "\n",
    "    return customer_orders, unique_products\n",
    "\n",
    "customer_orders, unique_products = get_customer_orders()\n",
    "\n",
    "print(\"Customer Orders:\", customer_orders)\n",
    "print(\"Unique Products:\", unique_products)"
   ]
  },
  {
   "cell_type": "code",
   "execution_count": 9,
   "id": "44b1ffc5",
   "metadata": {},
   "outputs": [
    {
     "name": "stdout",
     "output_type": "stream",
     "text": [
      "Product t-shirt is now out of stock and has been removed from the inventory.\n",
      "The updated inventory for mug: is 1\n",
      "The updated inventory for hat: is 2\n",
      "The updated inventory for book: is 2\n",
      "The updated inventory for keychain: is 5\n"
     ]
    },
    {
     "data": {
      "text/plain": [
       "{}"
      ]
     },
     "execution_count": 9,
     "metadata": {},
     "output_type": "execute_result"
    }
   ],
   "source": [
    "def update_inventory(customer_orders, inventory):\n",
    "    for product in customer_orders:\n",
    "        if product in inventory: \n",
    "            if inventory[product] > 0:\n",
    "                inventory[product] -= 1\n",
    "                if inventory[product] <= 0:\n",
    "                    print(f\"Product {product} is now out of stock and has been removed from the inventory.\")\n",
    "            else:\n",
    "                (f\"Product {product} is out of stock.\")\n",
    "        else:\n",
    "            print(f\"Product {product} does not exist in the inventory.\")\n",
    "\n",
    "    inventory = {product: quantity for product, quantity in inventory.items() if quantity > 0 and print(f\"The updated inventory for {product}: is {quantity}\")}\n",
    "    return inventory\n",
    "\n",
    "update_inventory(customer_orders, inventory)        "
   ]
  },
  {
   "cell_type": "code",
   "execution_count": 10,
   "id": "f567564d",
   "metadata": {},
   "outputs": [],
   "source": [
    "def calculate_order_statistics(customer_orders, products, unique_products):\n",
    "    total_products_ordered = len(customer_orders)\n",
    "    ratio = (len(customer_orders) / len(inventory))*100\n",
    "    number_unique_products = len(unique_products)\n",
    "    ratio_unique = (len(unique_products) / len(inventory))*100\n",
    "    return total_products_ordered, ratio, number_unique_products, ratio_unique\n",
    "\n",
    "total_products_ordered, ratio, number_unique_products, ratio_unique = calculate_order_statistics(customer_orders, products, unique_products)"
   ]
  },
  {
   "cell_type": "code",
   "execution_count": 11,
   "id": "e0a95cc4",
   "metadata": {},
   "outputs": [
    {
     "name": "stdout",
     "output_type": "stream",
     "text": [
      "Order Statistics:\n",
      "The total number of products ordered is: 5\n",
      "The percentage of products ordered is: 100.0%\n",
      "The total number of unique products ordered is: 4\n",
      "The percentage of unique products is: 80.0%\n"
     ]
    }
   ],
   "source": [
    "def print_order_statistics(order_statistics):\n",
    "    total_products_ordered, ratio, number_unique_products, ratio_unique = order_statistics\n",
    "    print(\"Order Statistics:\")\n",
    "    print(f\"The total number of products ordered is: {total_products_ordered}\")\n",
    "    print(f\"The percentage of products ordered is: {ratio}%\")\n",
    "    print(f\"The total number of unique products ordered is: {number_unique_products}\")\n",
    "    print(f\"The percentage of unique products is: {ratio_unique}%\")\n",
    "\n",
    "order_statistics = (total_products_ordered, ratio, number_unique_products, ratio_unique)\n",
    "print_order_statistics(order_statistics)"
   ]
  },
  {
   "cell_type": "code",
   "execution_count": 12,
   "id": "f0fec633",
   "metadata": {},
   "outputs": [
    {
     "name": "stdout",
     "output_type": "stream",
     "text": [
      "The t-shirt ordered at a price of: 29.9\n",
      "The mug ordered at a price of: 9.95\n",
      "The hat ordered at a price of: 14.9\n",
      "The book ordered at a price of: 19.9\n",
      "The book ordered at a price of: 19.9\n",
      "Total price of the customer order is: 94.55\n"
     ]
    }
   ],
   "source": [
    "def calculate_total_price(customer_orders):\n",
    "    input_price = {product: float(input(f\"Enter the price for {product}: \")) for product in unique_products}\n",
    "    total_price = sum(input_price[product] for product in customer_orders)\n",
    "    return input_price, total_price \n",
    "\n",
    "input_price, total_price = calculate_total_price(customer_orders)\n",
    "\n",
    "def print_price(total_price):\n",
    "    for product in customer_orders:\n",
    "        print(f\"The {product} ordered at a price of: {input_price [product]}\")\n",
    "    print(f\"Total price of the customer order is: {total_price}\")\n",
    "\n",
    "print_price(total_price)"
   ]
  }
 ],
 "metadata": {
  "kernelspec": {
   "display_name": "base",
   "language": "python",
   "name": "python3"
  },
  "language_info": {
   "codemirror_mode": {
    "name": "ipython",
    "version": 3
   },
   "file_extension": ".py",
   "mimetype": "text/x-python",
   "name": "python",
   "nbconvert_exporter": "python",
   "pygments_lexer": "ipython3",
   "version": "3.12.7"
  }
 },
 "nbformat": 4,
 "nbformat_minor": 5
}
